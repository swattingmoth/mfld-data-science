{
 "cells": [
  {
   "cell_type": "markdown",
   "metadata": {},
   "source": [
    "# Inference for numerical data\n",
    "# North Carolina births\n",
    "In 2004, the state of North Carolina released a large data set containing information on births recorded in this state. This data set is useful to researchers studying the relation between habits and practices of expectant mothers and the birth of their children. We will work with a random sample of observations from this data set.\n",
    "\n",
    "Exploratory analysis\n",
    "Load the `nc` data set into our workspace."
   ]
  },
  {
   "cell_type": "code",
   "execution_count": 1,
   "metadata": {
    "collapsed": true
   },
   "outputs": [],
   "source": [
    "import pandas as pd\n",
    "nc = pd.read_csv('nc.csv')"
   ]
  },
  {
   "cell_type": "markdown",
   "metadata": {},
   "source": [
    "We have observations on 13 different variables, some categorical and some numerical. The meaning of each variable is as follows.\n",
    "\n",
    "|variable|description|\n",
    "|:-------------|------------------------------------------------------------------------------------|\n",
    "|`fage`|father’s age in years.|\n",
    "|`mage`|mother’s age in years.|\n",
    "|`mature`|maturity status of mother.|\n",
    "|`weeks`|length of pregnancy in weeks.|\n",
    "|`premie`|whether the birth was classified as premature (premie) or full-term.|\n",
    "|`visits`|\tnumber of hospital visits during pregnancy.|\n",
    "|`marital`|whether mother is married or not married at birth.|\n",
    "|`gained`|weight gained by mother during pregnancy in pounds.|\n",
    "|`weight`|weight of the baby at birth in pounds.|\n",
    "|`lowbirthweight`|whether baby was classified as low birthweight (low) or not (not low).|\n",
    "|`gender`|gender of the baby, female or male.|\n",
    "|`habit`|status of the mother as a nonsmoker or a smoker.|\n",
    "|`whitemom`|whether mom is white or not white.|"
   ]
  },
  {
   "cell_type": "markdown",
   "metadata": {},
   "source": [
    "**Exercise 1** What are the cases in this data set? How many cases are there in our sample?"
   ]
  },
  {
   "cell_type": "markdown",
   "metadata": {},
   "source": [
    "As a first step in the analysis, we should consider summaries of the data. This can be done using the `describe` and `info` functions:"
   ]
  },
  {
   "cell_type": "code",
   "execution_count": 3,
   "metadata": {
    "collapsed": false
   },
   "outputs": [
    {
     "data": {
      "text/html": [
       "<div>\n",
       "<style scoped>\n",
       "    .dataframe tbody tr th:only-of-type {\n",
       "        vertical-align: middle;\n",
       "    }\n",
       "\n",
       "    .dataframe tbody tr th {\n",
       "        vertical-align: top;\n",
       "    }\n",
       "\n",
       "    .dataframe thead th {\n",
       "        text-align: right;\n",
       "    }\n",
       "</style>\n",
       "<table border=\"1\" class=\"dataframe\">\n",
       "  <thead>\n",
       "    <tr style=\"text-align: right;\">\n",
       "      <th></th>\n",
       "      <th>fage</th>\n",
       "      <th>mage</th>\n",
       "      <th>weeks</th>\n",
       "      <th>visits</th>\n",
       "      <th>gained</th>\n",
       "      <th>weight</th>\n",
       "    </tr>\n",
       "  </thead>\n",
       "  <tbody>\n",
       "    <tr>\n",
       "      <th>count</th>\n",
       "      <td>829.000000</td>\n",
       "      <td>1000.000000</td>\n",
       "      <td>998.000000</td>\n",
       "      <td>991.000000</td>\n",
       "      <td>973.000000</td>\n",
       "      <td>1000.00000</td>\n",
       "    </tr>\n",
       "    <tr>\n",
       "      <th>mean</th>\n",
       "      <td>30.255730</td>\n",
       "      <td>27.000000</td>\n",
       "      <td>38.334669</td>\n",
       "      <td>12.104945</td>\n",
       "      <td>30.325797</td>\n",
       "      <td>7.10100</td>\n",
       "    </tr>\n",
       "    <tr>\n",
       "      <th>std</th>\n",
       "      <td>6.763766</td>\n",
       "      <td>6.213583</td>\n",
       "      <td>2.931553</td>\n",
       "      <td>3.954934</td>\n",
       "      <td>14.241297</td>\n",
       "      <td>1.50886</td>\n",
       "    </tr>\n",
       "    <tr>\n",
       "      <th>min</th>\n",
       "      <td>14.000000</td>\n",
       "      <td>13.000000</td>\n",
       "      <td>20.000000</td>\n",
       "      <td>0.000000</td>\n",
       "      <td>0.000000</td>\n",
       "      <td>1.00000</td>\n",
       "    </tr>\n",
       "    <tr>\n",
       "      <th>25%</th>\n",
       "      <td>25.000000</td>\n",
       "      <td>22.000000</td>\n",
       "      <td>37.000000</td>\n",
       "      <td>10.000000</td>\n",
       "      <td>20.000000</td>\n",
       "      <td>6.38000</td>\n",
       "    </tr>\n",
       "    <tr>\n",
       "      <th>50%</th>\n",
       "      <td>30.000000</td>\n",
       "      <td>27.000000</td>\n",
       "      <td>39.000000</td>\n",
       "      <td>12.000000</td>\n",
       "      <td>30.000000</td>\n",
       "      <td>7.31000</td>\n",
       "    </tr>\n",
       "    <tr>\n",
       "      <th>75%</th>\n",
       "      <td>35.000000</td>\n",
       "      <td>32.000000</td>\n",
       "      <td>40.000000</td>\n",
       "      <td>15.000000</td>\n",
       "      <td>38.000000</td>\n",
       "      <td>8.06000</td>\n",
       "    </tr>\n",
       "    <tr>\n",
       "      <th>max</th>\n",
       "      <td>55.000000</td>\n",
       "      <td>50.000000</td>\n",
       "      <td>45.000000</td>\n",
       "      <td>30.000000</td>\n",
       "      <td>85.000000</td>\n",
       "      <td>11.75000</td>\n",
       "    </tr>\n",
       "  </tbody>\n",
       "</table>\n",
       "</div>"
      ],
      "text/plain": [
       "             fage         mage       weeks      visits      gained      weight\n",
       "count  829.000000  1000.000000  998.000000  991.000000  973.000000  1000.00000\n",
       "mean    30.255730    27.000000   38.334669   12.104945   30.325797     7.10100\n",
       "std      6.763766     6.213583    2.931553    3.954934   14.241297     1.50886\n",
       "min     14.000000    13.000000   20.000000    0.000000    0.000000     1.00000\n",
       "25%     25.000000    22.000000   37.000000   10.000000   20.000000     6.38000\n",
       "50%     30.000000    27.000000   39.000000   12.000000   30.000000     7.31000\n",
       "75%     35.000000    32.000000   40.000000   15.000000   38.000000     8.06000\n",
       "max     55.000000    50.000000   45.000000   30.000000   85.000000    11.75000"
      ]
     },
     "execution_count": 3,
     "metadata": {},
     "output_type": "execute_result"
    }
   ],
   "source": [
    "nc.describe()"
   ]
  },
  {
   "cell_type": "code",
   "execution_count": 4,
   "metadata": {
    "collapsed": false
   },
   "outputs": [
    {
     "name": "stdout",
     "output_type": "stream",
     "text": [
      "<class 'pandas.core.frame.DataFrame'>\n",
      "RangeIndex: 1000 entries, 0 to 999\n",
      "Data columns (total 13 columns):\n",
      "fage              829 non-null float64\n",
      "mage              1000 non-null int64\n",
      "mature            1000 non-null object\n",
      "weeks             998 non-null float64\n",
      "premie            998 non-null object\n",
      "visits            991 non-null float64\n",
      "marital           999 non-null object\n",
      "gained            973 non-null float64\n",
      "weight            1000 non-null float64\n",
      "lowbirthweight    1000 non-null object\n",
      "gender            1000 non-null object\n",
      "habit             999 non-null object\n",
      "whitemom          998 non-null object\n",
      "dtypes: float64(5), int64(1), object(7)\n",
      "memory usage: 101.6+ KB\n"
     ]
    }
   ],
   "source": [
    "nc.info()"
   ]
  },
  {
   "cell_type": "markdown",
   "metadata": {},
   "source": [
    "As you review the variable summaries, consider which variables are categorical and which are numerical. For numerical variables, are there outliers? If you aren’t sure or want to take a closer look at the data, make a graph.\n",
    "\n",
    "Consider the possible relationship between a mother’s smoking habit and the weight of her baby. Plotting the data is a useful first step because it helps us quickly visualize trends, identify strong associations, and develop research questions."
   ]
  },
  {
   "cell_type": "markdown",
   "metadata": {},
   "source": [
    "**Exercise 2** Make a side-by-side boxplot of `habit` and `weight`. What does the plot highlight about the relationship between these two variables?"
   ]
  },
  {
   "cell_type": "markdown",
   "metadata": {},
   "source": [
    "The box plots show how the medians of the two distributions compare, but we can also compare the means of the distributions using the following function to split the weight variable into the habit groups, then take the mean of each using the mean function."
   ]
  },
  {
   "cell_type": "code",
   "execution_count": 9,
   "metadata": {
    "collapsed": false
   },
   "outputs": [
    {
     "data": {
      "text/plain": [
       "habit\n",
       "nonsmoker    873\n",
       "smoker       126\n",
       "Name: weight, dtype: int64"
      ]
     },
     "execution_count": 9,
     "metadata": {},
     "output_type": "execute_result"
    }
   ],
   "source": [
    "nc.groupby('habit')['weight'].count()"
   ]
  },
  {
   "cell_type": "markdown",
   "metadata": {},
   "source": [
    "There is an observed difference, but is this difference statistically significant? In order to answer this question we will conduct a hypothesis test ."
   ]
  },
  {
   "cell_type": "markdown",
   "metadata": {},
   "source": [
    "# Inference"
   ]
  },
  {
   "cell_type": "markdown",
   "metadata": {},
   "source": [
    "**Exercise 3** Check if the conditions necessary for inference are satisfied. Note that you will need to obtain sample sizes to check the conditions. You can compute the group size using the same by command above but replacing `mean` with `count`."
   ]
  },
  {
   "cell_type": "markdown",
   "metadata": {},
   "source": [
    "**Exercise 4** Write the hypotheses for testing if the average weights of babies born to smoking and non-smoking mothers are different."
   ]
  },
  {
   "cell_type": "markdown",
   "metadata": {},
   "source": [
    "Next, we introduce a new function, `ttest_ind`, from the `statsmodels` library that we will use for conducting hypothesis tests."
   ]
  },
  {
   "cell_type": "code",
   "execution_count": 85,
   "metadata": {
    "collapsed": false
   },
   "outputs": [],
   "source": [
    "from statsmodels.stats import weightstats as ws\n",
    "import numpy as np\n",
    "smoker = np.array(nc[nc['habit'] == 'smoker']['weight'])\n",
    "nonsmoker = np.array(nc[nc['habit'] == 'nonsmoker']['weight'])"
   ]
  },
  {
   "cell_type": "code",
   "execution_count": 71,
   "metadata": {
    "collapsed": false
   },
   "outputs": [
    {
     "name": "stdout",
     "output_type": "stream",
     "text": [
      "smoker_mean 6.828730158730159\n",
      "smoker_std 1.380668106117173\n",
      "nonsmoker_mean 7.144272623138602\n",
      "nonsmoker_std 1.5178105512705897\n",
      "observed difference 0.315542464408443\n"
     ]
    }
   ],
   "source": [
    "print(\"smoker_mean {}\".format(smoker.mean()))\n",
    "print(\"smoker_std {}\".format(smoker.std()))\n",
    "print(\"nonsmoker_mean {}\".format(nonsmoker.mean()))\n",
    "print(\"nonsmoker_std {}\".format(nonsmoker.std()))\n",
    "print(\"observed difference {}\".format(nonsmoker.mean()-smoker.mean()))"
   ]
  },
  {
   "cell_type": "code",
   "execution_count": 81,
   "metadata": {
    "collapsed": false,
    "scrolled": true
   },
   "outputs": [
    {
     "name": "stdout",
     "output_type": "stream",
     "text": [
      "Test Statistic -2.359010944933508\n",
      "p value 0.019450556443731927\n"
     ]
    }
   ],
   "source": [
    "test_statistic, p_value, df = ws.ttest_ind(x1=smoker, x2=nonsmoker, value=0, alternative='two-sided', usevar='unequal')\n",
    "print(\"Test Statistic {}\".format(test_statistic))\n",
    "print(\"p value {}\".format(p_value))"
   ]
  },
  {
   "cell_type": "markdown",
   "metadata": {},
   "source": [
    "Let’s pause for a moment to go through the arguments of this function. The first argument is `x1`, which is the sample in our test. The second argument, `x2` is the second sample. In this case our two samples are the weights of smokers and nonsmokers. The third argument, `value`, is the expected value of the difference between the mean of the two samples when the null hypothosis is true. In this case `value` is 0, since the null hypothesis sets the two population means equal to each other. The `alternative` hypothesis can be `\"less\"`, `\"greater\"`, or `\"twosided\"`. Lastly, the `usevar` parameter can be `\"pooled\"` when the standard deviations of the samples are the same and `\"unequal\"` when they are not.\n",
    "\n",
    "The function below will allow us to compute a confidence interval for difference of the means of two samples assuming that:\n",
    "1. Both samples have an n > 30 so that we can use the standard normal distribution.\n",
    "2. The value for the null hypothesis is 0\n",
    "3. We are doing a two sided test."
   ]
  },
  {
   "cell_type": "code",
   "execution_count": 122,
   "metadata": {
    "collapsed": false
   },
   "outputs": [],
   "source": [
    "def zconfint(a, b=None, alpha=0.05, alternative=\"two-sided\"):\n",
    "    if(alternative != \"two-sided\"):\n",
    "        raise ValueError(\"Currently only two-sided alternative is supported\")\n",
    "        \n",
    "    from scipy import stats\n",
    "    from scipy.stats import t\n",
    "    import math\n",
    "    from statsmodels.stats import weightstats as ws\n",
    "    if(b is None):\n",
    "        lower, higher = ws.zconfint(a, alpha=alpha, alternative=alternative)\n",
    "        print ('\\nThe {}% confidence interval is [{} to {}]'.format((1.0 - alpha)*100, lower, higher))\n",
    "        return\n",
    "\n",
    "    N1 = len(a)\n",
    "    N2 = len(b)\n",
    "    std1 = a.std(ddof=1)\n",
    "    std2 = b.std(ddof=1)\n",
    "    se = math.sqrt( ((std1)**2/N1) + ((std2)**2/N2)) \n",
    "    \n",
    "    pvalue = 1.0 - alpha / 2\n",
    "    \n",
    "    diff_mean = a.mean() - b.mean()\n",
    "    crit_val = stats.norm.ppf(pvalue, loc = 0, scale = 1)\n",
    "    MoE = crit_val * se\n",
    "    \n",
    "    print('difference of the means equals', diff_mean,'\\n'\n",
    "      'critical value on the normal distribution is z =', crit_val, '\\n'\n",
    "      'margin of error =', MoE )\n",
    "\n",
    "    print ('\\nThe difference between groups is {} and the {}% confidence interval is [{} to {}]'.format(diff_mean, (1.0 - alpha)*100, diff_mean - MoE, diff_mean + MoE))"
   ]
  },
  {
   "cell_type": "markdown",
   "metadata": {},
   "source": [
    "**Exercise 5** Use the function above to construct a confidence interval for the difference between the weights of babies born to smoking and non-smoking mothers."
   ]
  },
  {
   "cell_type": "markdown",
   "metadata": {},
   "source": [
    "# On your own\n",
    "1. Calculate a 95% confidence interval for the average length of pregnancies (`weeks`) and interpret it in context. You can use the zconfint method from the weightstats library to do this. Note that `weeks` contains null values so you'll have to deal with them first. Hint: look at the pandas `dropna` function.\n",
    "\n",
    "2. Calculate a new confidence interval for the same parameter at the 90% confidence level. \n",
    "\n",
    "3. Conduct a hypothesis test evaluating whether the average weight gained by younger mothers is different than the average weight gained by mature mothers.\n",
    "\n",
    "4. Determine the age cutoff for younger and mature mothers. Use a method of your choice, and explain how your method works.\n",
    "\n",
    "5. Pick a pair of numerical and categorical variables and come up with a research question evaluating the relationship between these variables. Formulate the question in a way that it can be answered using a hypothesis test and/or a confidence interval. Answer your question using the inference function, report the statistical results, and also provide an explanation in plain language."
   ]
  },
  {
   "cell_type": "markdown",
   "metadata": {},
   "source": [
    "*This notebook is based on the OpenIntro R lab [Inference for numerical data](http://htmlpreview.github.io/?https://github.com/andrewpbray/oiLabs-base-R/blob/master/inf_for_numerical_data/inf_for_numerical_data.html).*"
   ]
  }
 ],
 "metadata": {
  "kernelspec": {
   "display_name": "Python [default]",
   "language": "python",
   "name": "python3"
  },
  "language_info": {
   "codemirror_mode": {
    "name": "ipython",
    "version": 3
   },
   "file_extension": ".py",
   "mimetype": "text/x-python",
   "name": "python",
   "nbconvert_exporter": "python",
   "pygments_lexer": "ipython3",
   "version": "3.5.2"
  }
 },
 "nbformat": 4,
 "nbformat_minor": 2
}
