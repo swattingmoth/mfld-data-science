{
 "cells": [
  {
   "cell_type": "markdown",
   "metadata": {},
   "source": [
    "# Introduction to Python\n",
    "Ported to python from http://htmlpreview.github.io/?https://github.com/andrewpbray/oiLabs-base-R/blob/master/intro_to_r/intro_to_r.html"
   ]
  },
  {
   "cell_type": "markdown",
   "metadata": {},
   "source": [
    "First, we need to import the libraries that we need. By convention, we apply aliases that we can use to reference the libraries later. `pandas` contains classes for working working with `Series` and `DataFrame`. These are very similar to `list` and `data.frame` in R. `numpy` contains a number of mathematical and statistical functions."
   ]
  },
  {
   "cell_type": "code",
   "execution_count": 2,
   "metadata": {
    "collapsed": true
   },
   "outputs": [],
   "source": [
    "import pandas as pd\n",
    "import numpy as np"
   ]
  },
  {
   "cell_type": "markdown",
   "metadata": {},
   "source": [
    "Now we will load the arbuthnot.csv file into a pandas `DataFrame`. "
   ]
  },
  {
   "cell_type": "code",
   "execution_count": 3,
   "metadata": {
    "collapsed": true
   },
   "outputs": [],
   "source": [
    "arbuthnot = pd.read_csv(\"arbuthnot.csv\")"
   ]
  },
  {
   "cell_type": "markdown",
   "metadata": {},
   "source": [
    "## The Data: Dr. Arbuthnot’s Baptism Records\n",
    "The Arbuthnot data set refers to Dr. John Arbuthnot, an 18th century physician, writer, and mathematician. He was interested in the ratio of newborn boys to newborn girls, so he gathered the baptism records for children born in London for every year from 1629 to 1710. We can take a look at the data by typing its name into the console. Adding `.head()` will return just the first few rows of the data."
   ]
  },
  {
   "cell_type": "code",
   "execution_count": 4,
   "metadata": {
    "collapsed": false
   },
   "outputs": [
    {
     "data": {
      "text/html": [
       "<div>\n",
       "<style scoped>\n",
       "    .dataframe tbody tr th:only-of-type {\n",
       "        vertical-align: middle;\n",
       "    }\n",
       "\n",
       "    .dataframe tbody tr th {\n",
       "        vertical-align: top;\n",
       "    }\n",
       "\n",
       "    .dataframe thead th {\n",
       "        text-align: right;\n",
       "    }\n",
       "</style>\n",
       "<table border=\"1\" class=\"dataframe\">\n",
       "  <thead>\n",
       "    <tr style=\"text-align: right;\">\n",
       "      <th></th>\n",
       "      <th>year</th>\n",
       "      <th>boys</th>\n",
       "      <th>girls</th>\n",
       "    </tr>\n",
       "  </thead>\n",
       "  <tbody>\n",
       "    <tr>\n",
       "      <th>0</th>\n",
       "      <td>1629</td>\n",
       "      <td>5218</td>\n",
       "      <td>4683</td>\n",
       "    </tr>\n",
       "    <tr>\n",
       "      <th>1</th>\n",
       "      <td>1630</td>\n",
       "      <td>4858</td>\n",
       "      <td>4457</td>\n",
       "    </tr>\n",
       "    <tr>\n",
       "      <th>2</th>\n",
       "      <td>1631</td>\n",
       "      <td>4422</td>\n",
       "      <td>4102</td>\n",
       "    </tr>\n",
       "    <tr>\n",
       "      <th>3</th>\n",
       "      <td>1632</td>\n",
       "      <td>4994</td>\n",
       "      <td>4590</td>\n",
       "    </tr>\n",
       "    <tr>\n",
       "      <th>4</th>\n",
       "      <td>1633</td>\n",
       "      <td>5158</td>\n",
       "      <td>4839</td>\n",
       "    </tr>\n",
       "  </tbody>\n",
       "</table>\n",
       "</div>"
      ],
      "text/plain": [
       "   year  boys  girls\n",
       "0  1629  5218   4683\n",
       "1  1630  4858   4457\n",
       "2  1631  4422   4102\n",
       "3  1632  4994   4590\n",
       "4  1633  5158   4839"
      ]
     },
     "execution_count": 4,
     "metadata": {},
     "output_type": "execute_result"
    }
   ],
   "source": [
    "arbuthnot.head()"
   ]
  },
  {
   "cell_type": "markdown",
   "metadata": {},
   "source": [
    "What you should see are four columns of numbers, each row representing a different year: the first entry in each row is simply the row number (an index we can use to access the data from individual years if we want), the second is the year, and the third and fourth are the numbers of boys and girls baptized that year, respectively. Use the scrollbar on the right side of the console window to examine the complete data set.\n",
    "\n",
    "Note that the row numbers in the first column are not part of Arbuthnot’s data. Pandas adds them as an index that can be used to identify the columns. You can think of them as the index that you see on the left side of a spreadsheet. In fact, the comparison to a spreadsheet will generally be helpful. Python has stored Arbuthnot’s data in a kind of spreadsheet or table called a data frame.\n",
    "\n",
    "You can see the dimensions of this data frame by typing:"
   ]
  },
  {
   "cell_type": "code",
   "execution_count": 5,
   "metadata": {
    "collapsed": false
   },
   "outputs": [
    {
     "data": {
      "text/plain": [
       "(82, 3)"
      ]
     },
     "execution_count": 5,
     "metadata": {},
     "output_type": "execute_result"
    }
   ],
   "source": [
    "arbuthnot.shape"
   ]
  },
  {
   "cell_type": "markdown",
   "metadata": {},
   "source": [
    "This command should output (82 3), indicating that there are 82 rows and 3 columns. You can see the names of these columns (or variables) by typing:"
   ]
  },
  {
   "cell_type": "code",
   "execution_count": 6,
   "metadata": {
    "collapsed": false
   },
   "outputs": [
    {
     "data": {
      "text/plain": [
       "Index(['year', 'boys', 'girls'], dtype='object')"
      ]
     },
     "execution_count": 6,
     "metadata": {},
     "output_type": "execute_result"
    }
   ],
   "source": [
    "arbuthnot.columns"
   ]
  },
  {
   "cell_type": "markdown",
   "metadata": {},
   "source": [
    "You should see that the data frame contains the columns year, boys, and girls. "
   ]
  },
  {
   "cell_type": "markdown",
   "metadata": {},
   "source": [
    "## Some Exploration\n",
    "Let’s start to examine the data a little more closely. We can access the data in a single column of a data frame (a pandas `Series`) separately using a command like"
   ]
  },
  {
   "cell_type": "code",
   "execution_count": 7,
   "metadata": {
    "collapsed": false
   },
   "outputs": [
    {
     "data": {
      "text/plain": [
       "0     5218\n",
       "1     4858\n",
       "2     4422\n",
       "3     4994\n",
       "4     5158\n",
       "5     5035\n",
       "6     5106\n",
       "7     4917\n",
       "8     4703\n",
       "9     5359\n",
       "10    5366\n",
       "11    5518\n",
       "12    5470\n",
       "13    5460\n",
       "14    4793\n",
       "15    4107\n",
       "16    4047\n",
       "17    3768\n",
       "18    3796\n",
       "19    3363\n",
       "20    3079\n",
       "21    2890\n",
       "22    3231\n",
       "23    3220\n",
       "24    3196\n",
       "25    3441\n",
       "26    3655\n",
       "27    3668\n",
       "28    3396\n",
       "29    3157\n",
       "      ... \n",
       "52    6822\n",
       "53    6909\n",
       "54    7577\n",
       "55    7575\n",
       "56    7484\n",
       "57    7575\n",
       "58    7737\n",
       "59    7487\n",
       "60    7604\n",
       "61    7909\n",
       "62    7662\n",
       "63    7602\n",
       "64    7676\n",
       "65    6985\n",
       "66    7263\n",
       "67    7632\n",
       "68    8062\n",
       "69    8426\n",
       "70    7911\n",
       "71    7578\n",
       "72    8102\n",
       "73    8031\n",
       "74    7765\n",
       "75    6113\n",
       "76    8366\n",
       "77    7952\n",
       "78    8379\n",
       "79    8239\n",
       "80    7840\n",
       "81    7640\n",
       "Name: boys, Length: 82, dtype: int64"
      ]
     },
     "execution_count": 7,
     "metadata": {},
     "output_type": "execute_result"
    }
   ],
   "source": [
    "arbuthnot['boys']"
   ]
  },
  {
   "cell_type": "markdown",
   "metadata": {},
   "source": [
    "Note, you could have also used `arbuthnot.boys`, but the square bracket syntax is preferrable as the . syntax won't work in all cases."
   ]
  },
  {
   "cell_type": "markdown",
   "metadata": {},
   "source": [
    "**Exercise 1** What command would you use to extract just the counts of girls baptized? Try it!"
   ]
  },
  {
   "cell_type": "code",
   "execution_count": 4,
   "metadata": {
    "collapsed": false
   },
   "outputs": [
    {
     "data": {
      "text/plain": [
       "0     4683\n",
       "1     4457\n",
       "2     4102\n",
       "3     4590\n",
       "4     4839\n",
       "5     4820\n",
       "6     4928\n",
       "7     4605\n",
       "8     4457\n",
       "9     4952\n",
       "10    4784\n",
       "11    5332\n",
       "12    5200\n",
       "13    4910\n",
       "14    4617\n",
       "15    3997\n",
       "16    3919\n",
       "17    3395\n",
       "18    3536\n",
       "19    3181\n",
       "20    2746\n",
       "21    2722\n",
       "22    2840\n",
       "23    2908\n",
       "24    2959\n",
       "25    3179\n",
       "26    3349\n",
       "27    3382\n",
       "28    3289\n",
       "29    3013\n",
       "      ... \n",
       "52    6533\n",
       "53    6744\n",
       "54    7158\n",
       "55    7127\n",
       "56    7246\n",
       "57    7119\n",
       "58    7214\n",
       "59    7101\n",
       "60    7167\n",
       "61    7302\n",
       "62    7392\n",
       "63    7316\n",
       "64    7483\n",
       "65    6647\n",
       "66    6713\n",
       "67    7229\n",
       "68    7767\n",
       "69    7626\n",
       "70    7452\n",
       "71    7061\n",
       "72    7514\n",
       "73    7656\n",
       "74    7683\n",
       "75    5738\n",
       "76    7779\n",
       "77    7417\n",
       "78    7687\n",
       "79    7623\n",
       "80    7380\n",
       "81    7288\n",
       "Name: girls, Length: 82, dtype: int64"
      ]
     },
     "execution_count": 4,
     "metadata": {},
     "output_type": "execute_result"
    }
   ],
   "source": [
    "arbuthnot['girls']"
   ]
  },
  {
   "cell_type": "markdown",
   "metadata": {},
   "source": [
    "Notice that the way pandas has printed these data is different. When we looked at the complete data frame, we saw 82 rows, one on each line of the display with a column header at the top. These data are no longer structured in a table with other variables, so they have no column header. pandas has added numbers along the left side of the printout to indicate locations within the Series. For example, `5218` follows `0`, indicating that `5218` is the first entry in the vector. And if `43` starts a line, then that would mean the first number on that line would represent the 43rd entry in the vector.\n",
    "\n",
    "The library that is the basis of most of the plotting that we will do is matplotlib. This can be imported using "
   ]
  },
  {
   "cell_type": "code",
   "execution_count": 5,
   "metadata": {
    "collapsed": true
   },
   "outputs": [],
   "source": [
    "import matplotlib.pyplot as plt"
   ]
  },
  {
   "cell_type": "markdown",
   "metadata": {},
   "source": [
    "pandas uses matplotlib behind the scenes to do some of it's own built in plotting. Another plotting library that we will see eventually is seaborn, which also utilizes matplotlib. \n",
    "\n",
    "We can create a simple plot of the number of girls baptized per year with the command below. This will draw the plot on a matplotlib axes. We need to use matplotlib to actually show the plot."
   ]
  },
  {
   "cell_type": "code",
   "execution_count": 4,
   "metadata": {
    "collapsed": false
   },
   "outputs": [
    {
     "data": {
      "image/png": "[encoded data removed]",
      "text/plain": [
       "<matplotlib.figure.Figure at 0x122c0f0>"
      ]
     },
     "metadata": {},
     "output_type": "display_data"
    }
   ],
   "source": [
    "arbuthnot.plot.scatter(x='year', y='girls')\n",
    "plt.show()"
   ]
  },
  {
   "cell_type": "markdown",
   "metadata": {},
   "source": [
    "The code above creates a scatterplot with each x,y pair indicated by a circle. If we wanted to connect the data points with lines, we could use the line plot type. Note how a legend is added for us automatically."
   ]
  },
  {
   "cell_type": "code",
   "execution_count": 5,
   "metadata": {
    "collapsed": false
   },
   "outputs": [
    {
     "data": {
      "image/png": "[encoded data removed]",
      "text/plain": [
       "<matplotlib.figure.Figure at 0x8e225f8>"
      ]
     },
     "metadata": {},
     "output_type": "display_data"
    }
   ],
   "source": [
    "arbuthnot.plot.line(x='year', y='girls')\n",
    "plt.show()"
   ]
  },
  {
   "cell_type": "markdown",
   "metadata": {},
   "source": [
    "Most libraries in python document their functions extensively. To read what a function does and learn the arguments that are available to you, just type in a question mark followed by the name of the function that you’re interested in. Try the following."
   ]
  },
  {
   "cell_type": "code",
   "execution_count": 23,
   "metadata": {
    "collapsed": true
   },
   "outputs": [],
   "source": [
    "?arbuthnot.plot"
   ]
  },
  {
   "cell_type": "markdown",
   "metadata": {},
   "source": [
    "**Exercise 2** Is there an apparent trend in the number of girls baptized over the years?\n",
    "How would you describe it?"
   ]
  },
  {
   "cell_type": "markdown",
   "metadata": {},
   "source": [
    "There was a drop from 1640 to 1650, and then an increase from 1660 to 1710."
   ]
  },
  {
   "cell_type": "markdown",
   "metadata": {},
   "source": [
    "Now, suppose we want to plot the total number of baptisms. To compute this, we could use the fact that python supports mathematical functions. We can type in mathematical expressions like"
   ]
  },
  {
   "cell_type": "code",
   "execution_count": 24,
   "metadata": {
    "collapsed": false
   },
   "outputs": [
    {
     "data": {
      "text/plain": [
       "9901"
      ]
     },
     "execution_count": 24,
     "metadata": {},
     "output_type": "execute_result"
    }
   ],
   "source": [
    "5218 + 4683"
   ]
  },
  {
   "cell_type": "markdown",
   "metadata": {},
   "source": [
    "to see the total number of baptisms in 1629. We could repeat this once for each year, but there is a faster way. If we add the Series for baptisms for boys and girls, python will compute all sums simultaneously."
   ]
  },
  {
   "cell_type": "code",
   "execution_count": 28,
   "metadata": {
    "collapsed": false
   },
   "outputs": [
    {
     "data": {
      "text/plain": [
       "0      9901\n",
       "1      9315\n",
       "2      8524\n",
       "3      9584\n",
       "4      9997\n",
       "5      9855\n",
       "6     10034\n",
       "7      9522\n",
       "8      9160\n",
       "9     10311\n",
       "10    10150\n",
       "11    10850\n",
       "12    10670\n",
       "13    10370\n",
       "14     9410\n",
       "15     8104\n",
       "16     7966\n",
       "17     7163\n",
       "18     7332\n",
       "19     6544\n",
       "20     5825\n",
       "21     5612\n",
       "22     6071\n",
       "23     6128\n",
       "24     6155\n",
       "25     6620\n",
       "26     7004\n",
       "27     7050\n",
       "28     6685\n",
       "29     6170\n",
       "      ...  \n",
       "52    13355\n",
       "53    13653\n",
       "54    14735\n",
       "55    14702\n",
       "56    14730\n",
       "57    14694\n",
       "58    14951\n",
       "59    14588\n",
       "60    14771\n",
       "61    15211\n",
       "62    15054\n",
       "63    14918\n",
       "64    15159\n",
       "65    13632\n",
       "66    13976\n",
       "67    14861\n",
       "68    15829\n",
       "69    16052\n",
       "70    15363\n",
       "71    14639\n",
       "72    15616\n",
       "73    15687\n",
       "74    15448\n",
       "75    11851\n",
       "76    16145\n",
       "77    15369\n",
       "78    16066\n",
       "79    15862\n",
       "80    15220\n",
       "81    14928\n",
       "Length: 82, dtype: int64"
      ]
     },
     "execution_count": 28,
     "metadata": {},
     "output_type": "execute_result"
    }
   ],
   "source": [
    "arbuthnot['boys'] + arbuthnot['girls']"
   ]
  },
  {
   "cell_type": "markdown",
   "metadata": {},
   "source": [
    "What you will see are 82 numbers, each one representing the sum we’re after. Take a look at a few of them and verify that they are right. Therefore, we can make a plot of the total number of baptisms per year. However, because we want to plot a Series that is not part of the DataFrame, we cannot use the pandas built in plot. However, we can use matplotlib directly with the command"
   ]
  },
  {
   "cell_type": "code",
   "execution_count": 6,
   "metadata": {
    "collapsed": false
   },
   "outputs": [
    {
     "data": {
      "image/png": "[encoded data removed]",
      "text/plain": [
       "<matplotlib.figure.Figure at 0x91832e8>"
      ]
     },
     "metadata": {},
     "output_type": "display_data"
    }
   ],
   "source": [
    "plt.plot(arbuthnot['year'], arbuthnot['boys'] + arbuthnot['girls'])\n",
    "plt.show()"
   ]
  },
  {
   "cell_type": "markdown",
   "metadata": {
    "collapsed": false
   },
   "source": [
    "Similarly to how we computed the proportion of boys, we can compute the ratio of the number of boys to the number of girls baptized in 1629 with"
   ]
  },
  {
   "cell_type": "code",
   "execution_count": 7,
   "metadata": {
    "collapsed": false
   },
   "outputs": [
    {
     "data": {
      "text/plain": [
       "1.1142430066196882"
      ]
     },
     "execution_count": 7,
     "metadata": {},
     "output_type": "execute_result"
    }
   ],
   "source": [
    "5218 / 4683"
   ]
  },
  {
   "cell_type": "markdown",
   "metadata": {},
   "source": [
    "or we can act on the complete vectors with the expression"
   ]
  },
  {
   "cell_type": "code",
   "execution_count": 8,
   "metadata": {
    "collapsed": false
   },
   "outputs": [
    {
     "data": {
      "text/plain": [
       "0     1.114243\n",
       "1     1.089971\n",
       "2     1.078011\n",
       "3     1.088017\n",
       "4     1.065923\n",
       "5     1.044606\n",
       "6     1.036120\n",
       "7     1.067752\n",
       "8     1.055194\n",
       "9     1.082189\n",
       "10    1.121656\n",
       "11    1.034884\n",
       "12    1.051923\n",
       "13    1.112016\n",
       "14    1.038120\n",
       "15    1.027521\n",
       "16    1.032661\n",
       "17    1.109867\n",
       "18    1.073529\n",
       "19    1.057215\n",
       "20    1.121267\n",
       "21    1.061719\n",
       "22    1.137676\n",
       "23    1.107290\n",
       "24    1.080095\n",
       "25    1.082416\n",
       "26    1.091371\n",
       "27    1.084565\n",
       "28    1.032533\n",
       "29    1.047793\n",
       "        ...   \n",
       "52    1.044237\n",
       "53    1.024466\n",
       "54    1.058536\n",
       "55    1.062860\n",
       "56    1.032846\n",
       "57    1.064054\n",
       "58    1.072498\n",
       "59    1.054359\n",
       "60    1.060974\n",
       "61    1.083128\n",
       "62    1.036526\n",
       "63    1.039092\n",
       "64    1.025792\n",
       "65    1.050850\n",
       "66    1.081931\n",
       "67    1.055748\n",
       "68    1.037981\n",
       "69    1.104904\n",
       "70    1.061594\n",
       "71    1.073219\n",
       "72    1.078254\n",
       "73    1.048981\n",
       "74    1.010673\n",
       "75    1.065354\n",
       "76    1.075460\n",
       "77    1.072132\n",
       "78    1.090022\n",
       "79    1.080808\n",
       "80    1.062331\n",
       "81    1.048299\n",
       "Length: 82, dtype: float64"
      ]
     },
     "execution_count": 8,
     "metadata": {},
     "output_type": "execute_result"
    }
   ],
   "source": [
    "arbuthnot['boys'] / arbuthnot['girls']"
   ]
  },
  {
   "cell_type": "markdown",
   "metadata": {},
   "source": [
    "The proportion of newborns that are boys"
   ]
  },
  {
   "cell_type": "code",
   "execution_count": 9,
   "metadata": {
    "collapsed": false
   },
   "outputs": [
    {
     "data": {
      "text/plain": [
       "0.527017472982527"
      ]
     },
     "execution_count": 9,
     "metadata": {},
     "output_type": "execute_result"
    }
   ],
   "source": [
    "5218 / (5218 + 4683)"
   ]
  },
  {
   "cell_type": "markdown",
   "metadata": {},
   "source": [
    "or this may also be computed for all years simultaneously:"
   ]
  },
  {
   "cell_type": "code",
   "execution_count": 10,
   "metadata": {
    "collapsed": false
   },
   "outputs": [
    {
     "data": {
      "text/plain": [
       "0     0.527017\n",
       "1     0.521524\n",
       "2     0.518771\n",
       "3     0.521077\n",
       "4     0.515955\n",
       "5     0.510908\n",
       "6     0.508870\n",
       "7     0.516383\n",
       "8     0.513428\n",
       "9     0.519736\n",
       "10    0.528670\n",
       "11    0.508571\n",
       "12    0.512652\n",
       "13    0.526519\n",
       "14    0.509352\n",
       "15    0.506787\n",
       "16    0.508034\n",
       "17    0.526037\n",
       "18    0.517730\n",
       "19    0.513906\n",
       "20    0.528584\n",
       "21    0.514968\n",
       "22    0.532202\n",
       "23    0.525457\n",
       "24    0.519253\n",
       "25    0.519789\n",
       "26    0.521845\n",
       "27    0.520284\n",
       "28    0.508003\n",
       "29    0.511669\n",
       "        ...   \n",
       "52    0.510820\n",
       "53    0.506043\n",
       "54    0.514218\n",
       "55    0.515236\n",
       "56    0.508079\n",
       "57    0.515517\n",
       "58    0.517490\n",
       "59    0.513230\n",
       "60    0.514792\n",
       "61    0.519953\n",
       "62    0.508968\n",
       "63    0.509586\n",
       "64    0.506366\n",
       "65    0.512397\n",
       "66    0.519677\n",
       "67    0.513559\n",
       "68    0.509318\n",
       "69    0.524919\n",
       "70    0.514938\n",
       "71    0.517658\n",
       "72    0.518827\n",
       "73    0.511953\n",
       "74    0.502654\n",
       "75    0.515821\n",
       "76    0.518179\n",
       "77    0.517405\n",
       "78    0.521536\n",
       "79    0.519417\n",
       "80    0.515112\n",
       "81    0.511790\n",
       "Length: 82, dtype: float64"
      ]
     },
     "execution_count": 10,
     "metadata": {},
     "output_type": "execute_result"
    }
   ],
   "source": [
    "arbuthnot['boys'] / (arbuthnot['boys'] + arbuthnot['girls'])"
   ]
  },
  {
   "cell_type": "markdown",
   "metadata": {},
   "source": [
    "Note that with python as with your calculator, you need to be conscious of the order of operations. Here, we want to divide the number of boys by the total number of newborns, so we have to use parentheses. Without them, python will first do the division, then the addition, giving you something that is not a proportion."
   ]
  },
  {
   "cell_type": "markdown",
   "metadata": {},
   "source": [
    "**Exercise 3** Now, make a plot of the proportion of boys over time. What do you see?"
   ]
  },
  {
   "cell_type": "code",
   "execution_count": 6,
   "metadata": {
    "collapsed": false
   },
   "outputs": [
    {
     "data": {
      "image/png": "[encoded data removed]",
      "text/plain": [
       "<matplotlib.figure.Figure at 0x887c0f0>"
      ]
     },
     "metadata": {},
     "output_type": "display_data"
    }
   ],
   "source": [
    "plt.plot(arbuthnot['year'], arbuthnot['boys'] / (arbuthnot['boys'] + arbuthnot['girls']))\n",
    "plt.show()"
   ]
  },
  {
   "cell_type": "markdown",
   "metadata": {},
   "source": [
    "Finally, in addition to simple mathematical operators like subtraction and division, you can ask R to make comparisons like greater than, >, less than, <, and equality, ==. For example, we can ask if boys outnumber girls in each year with the expression"
   ]
  },
  {
   "cell_type": "code",
   "execution_count": 12,
   "metadata": {
    "collapsed": false
   },
   "outputs": [
    {
     "data": {
      "text/plain": [
       "0     True\n",
       "1     True\n",
       "2     True\n",
       "3     True\n",
       "4     True\n",
       "5     True\n",
       "6     True\n",
       "7     True\n",
       "8     True\n",
       "9     True\n",
       "10    True\n",
       "11    True\n",
       "12    True\n",
       "13    True\n",
       "14    True\n",
       "15    True\n",
       "16    True\n",
       "17    True\n",
       "18    True\n",
       "19    True\n",
       "20    True\n",
       "21    True\n",
       "22    True\n",
       "23    True\n",
       "24    True\n",
       "25    True\n",
       "26    True\n",
       "27    True\n",
       "28    True\n",
       "29    True\n",
       "      ... \n",
       "52    True\n",
       "53    True\n",
       "54    True\n",
       "55    True\n",
       "56    True\n",
       "57    True\n",
       "58    True\n",
       "59    True\n",
       "60    True\n",
       "61    True\n",
       "62    True\n",
       "63    True\n",
       "64    True\n",
       "65    True\n",
       "66    True\n",
       "67    True\n",
       "68    True\n",
       "69    True\n",
       "70    True\n",
       "71    True\n",
       "72    True\n",
       "73    True\n",
       "74    True\n",
       "75    True\n",
       "76    True\n",
       "77    True\n",
       "78    True\n",
       "79    True\n",
       "80    True\n",
       "81    True\n",
       "Length: 82, dtype: bool"
      ]
     },
     "execution_count": 12,
     "metadata": {},
     "output_type": "execute_result"
    }
   ],
   "source": [
    "arbuthnot['boys'] > arbuthnot['girls']"
   ]
  },
  {
   "cell_type": "markdown",
   "metadata": {},
   "source": [
    "This command returns 82 values of either `True` if that year had more boys than girls, or `False` if that year did not (the answer may surprise you). This output shows a different kind of data than we have considered so far. In the arbuthnot data frame our values are numerical (the year, the number of boys and girls). Here, we’ve asked python to create logical data, data where the values are either `True` or `False`. In general, data analysis will involve many different kinds of data types, and one reason for using python is that it is able to represent and compute with many of them.\n",
    "\n",
    "This seems like a fair bit for your first lab, so let’s stop here. "
   ]
  },
  {
   "cell_type": "markdown",
   "metadata": {},
   "source": [
    "# On Your Own\n",
    "In the previous few pages, you recreated some of the displays and preliminary analysis of Arbuthnot’s baptism data. Your assignment involves repeating these steps, but for present day birth records in the United States. Load up the present day data into a `DataFrame` called `present` with the following command."
   ]
  },
  {
   "cell_type": "code",
   "execution_count": 14,
   "metadata": {
    "collapsed": false
   },
   "outputs": [],
   "source": [
    "present = pd.read_csv('present.csv')"
   ]
  },
  {
   "cell_type": "markdown",
   "metadata": {},
   "source": [
    "1. What years are included in this data set? What are the dimensions of the data frame and what are the variable or column names?\n",
    "2. How do these counts compare to Arbuthnot’s? Are they on a similar scale?\n",
    "3. Make a plot that displays the boy-to-girl ratio for every year in the data set. What do you see? Does Arbuthnot’s observation about boys being born in greater proportion than girls hold up in the U.S.? Include the plot in your response.\n",
    "4. In what year did we see the most total number of births in the U.S.? You can refer to the help files or the R reference card http://cran.r-project.org/doc/contrib/Short-refcard.pdf to find helpful commands.\n",
    "\n",
    "These data come from a report by the Centers for Disease Control http://www.cdc.gov/nchs/data/nvsr/nvsr53/nvsr53_20.pdf. Check it out if you would like to read more about an analysis of sex ratios at birth in the United States.\n",
    "\n",
    "That was a short introduction to python, pandas, and matplotlib, but we will provide you with more functions and a more complete sense of the language as the course progresses. Feel free to browse around the websites for python if you’re interested in learning more, or find more labs for practice at http://openintro.org."
   ]
  },
  {
   "cell_type": "code",
   "execution_count": 15,
   "metadata": {
    "collapsed": false
   },
   "outputs": [
    {
     "data": {
      "text/html": [
       "<div>\n",
       "<style scoped>\n",
       "    .dataframe tbody tr th:only-of-type {\n",
       "        vertical-align: middle;\n",
       "    }\n",
       "\n",
       "    .dataframe tbody tr th {\n",
       "        vertical-align: top;\n",
       "    }\n",
       "\n",
       "    .dataframe thead th {\n",
       "        text-align: right;\n",
       "    }\n",
       "</style>\n",
       "<table border=\"1\" class=\"dataframe\">\n",
       "  <thead>\n",
       "    <tr style=\"text-align: right;\">\n",
       "      <th></th>\n",
       "      <th>year</th>\n",
       "      <th>boys</th>\n",
       "      <th>girls</th>\n",
       "    </tr>\n",
       "  </thead>\n",
       "  <tbody>\n",
       "    <tr>\n",
       "      <th>0</th>\n",
       "      <td>1940</td>\n",
       "      <td>1211684</td>\n",
       "      <td>1148715</td>\n",
       "    </tr>\n",
       "    <tr>\n",
       "      <th>1</th>\n",
       "      <td>1941</td>\n",
       "      <td>1289734</td>\n",
       "      <td>1223693</td>\n",
       "    </tr>\n",
       "    <tr>\n",
       "      <th>2</th>\n",
       "      <td>1942</td>\n",
       "      <td>1444365</td>\n",
       "      <td>1364631</td>\n",
       "    </tr>\n",
       "    <tr>\n",
       "      <th>3</th>\n",
       "      <td>1943</td>\n",
       "      <td>1508959</td>\n",
       "      <td>1427901</td>\n",
       "    </tr>\n",
       "    <tr>\n",
       "      <th>4</th>\n",
       "      <td>1944</td>\n",
       "      <td>1435301</td>\n",
       "      <td>1359499</td>\n",
       "    </tr>\n",
       "  </tbody>\n",
       "</table>\n",
       "</div>"
      ],
      "text/plain": [
       "   year     boys    girls\n",
       "0  1940  1211684  1148715\n",
       "1  1941  1289734  1223693\n",
       "2  1942  1444365  1364631\n",
       "3  1943  1508959  1427901\n",
       "4  1944  1435301  1359499"
      ]
     },
     "execution_count": 15,
     "metadata": {},
     "output_type": "execute_result"
    }
   ],
   "source": [
    "present.head()"
   ]
  },
  {
   "cell_type": "code",
   "execution_count": 17,
   "metadata": {
    "collapsed": false
   },
   "outputs": [
    {
     "data": {
      "text/plain": [
       "year     1.971000e+03\n",
       "boys     1.885600e+06\n",
       "girls    1.793915e+06\n",
       "dtype: float64"
      ]
     },
     "execution_count": 17,
     "metadata": {},
     "output_type": "execute_result"
    }
   ],
   "source": [
    "present.mean()"
   ]
  },
  {
   "cell_type": "code",
   "execution_count": 18,
   "metadata": {
    "collapsed": false
   },
   "outputs": [
    {
     "data": {
      "text/plain": [
       "year     1669.500000\n",
       "boys     5907.097561\n",
       "girls    5534.646341\n",
       "dtype: float64"
      ]
     },
     "execution_count": 18,
     "metadata": {},
     "output_type": "execute_result"
    }
   ],
   "source": [
    "arbuthnot.mean()"
   ]
  },
  {
   "cell_type": "code",
   "execution_count": 20,
   "metadata": {
    "collapsed": false
   },
   "outputs": [
    {
     "data": {
      "image/png": "[encoded data removed]",
      "text/plain": [
       "<matplotlib.figure.Figure at 0x81a84e0>"
      ]
     },
     "metadata": {},
     "output_type": "display_data"
    }
   ],
   "source": [
    "plt.plot(present['year'], present['boys'] / (present['boys'] + present['girls']))\n",
    "plt.show()"
   ]
  },
  {
   "cell_type": "code",
   "execution_count": 23,
   "metadata": {
    "collapsed": false
   },
   "outputs": [],
   "source": [
    "present['total'] = present['boys'] + present['girls']"
   ]
  },
  {
   "cell_type": "code",
   "execution_count": 24,
   "metadata": {
    "collapsed": false
   },
   "outputs": [
    {
     "data": {
      "text/plain": [
       "21"
      ]
     },
     "execution_count": 24,
     "metadata": {},
     "output_type": "execute_result"
    }
   ],
   "source": [
    "present['total'].idxmax()"
   ]
  },
  {
   "cell_type": "code",
   "execution_count": 25,
   "metadata": {
    "collapsed": false
   },
   "outputs": [
    {
     "data": {
      "text/plain": [
       "year        1961\n",
       "boys     2186274\n",
       "girls    2082052\n",
       "total    4268326\n",
       "Name: 21, dtype: int64"
      ]
     },
     "execution_count": 25,
     "metadata": {},
     "output_type": "execute_result"
    }
   ],
   "source": [
    "present.iloc[21]"
   ]
  },
  {
   "cell_type": "markdown",
   "metadata": {
    "collapsed": true
   },
   "source": [
    "*This notebook is based on the OpenIntro R lab [Introduction to R and RStudio](http://htmlpreview.github.io/?https://github.com/andrewpbray/oiLabs-base-R/blob/master/intro_to_r/intro_to_r.html).*"
   ]
  }
 ],
 "metadata": {
  "anaconda-cloud": {},
  "kernelspec": {
   "display_name": "Python [default]",
   "language": "python",
   "name": "python3"
  },
  "language_info": {
   "codemirror_mode": {
    "name": "ipython",
    "version": 3
   },
   "file_extension": ".py",
   "mimetype": "text/x-python",
   "name": "python",
   "nbconvert_exporter": "python",
   "pygments_lexer": "ipython3",
   "version": "3.5.2"
  }
 },
 "nbformat": 4,
 "nbformat_minor": 2
}
