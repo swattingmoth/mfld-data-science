{
 "cells": [
  {
   "cell_type": "markdown",
   "metadata": {},
   "source": [
    "# Inference for categorical data\n",
    "In August of 2012, news outlets ranging from the [Washington Post](http://www.washingtonpost.com/national/on-faith/poll-shows-atheism-on-the-rise-in-the-us/2012/08/13/90020fd6-e57d-11e1-9739-eef99c5fb285_story.html) to the [Huffington Post](http://www.huffingtonpost.com/2012/08/14/atheism-rise-religiosity-decline-in-america_n_1777031.html) ran a story about the rise of atheism in America. The source for the story was a poll that asked people, “Irrespective of whether you attend a place of worship or not, would you say you are a religious person, not a religious person or a convinced atheist?” This type of question, which asks people to classify themselves in one way or another, is common in polling and generates categorical data. In this lab we take a look at the atheism survey and explore what’s at play when making inference about population proportions using categorical data.\n",
    "\n",
    "The survey\n",
    "To access the press release for the poll, conducted by WIN-Gallup International, click on the following link:\n",
    "\n",
    "http://www.wingia.com/web/files/richeditor/filemanager/Global_INDEX_of_Religiosity_and_Atheism_PR__6.pdf\n",
    "\n",
    "Take a moment to review the report then address the following questions."
   ]
  },
  {
   "cell_type": "markdown",
   "metadata": {},
   "source": [
    "**Exercise 1** In the first paragraph, several key findings are reported. Do these percentages appear to be sample statistics (derived from the data sample) or population parameters?"
   ]
  },
  {
   "cell_type": "markdown",
   "metadata": {},
   "source": [
    "**Exercise 2** The title of the report is “Global Index of Religiosity and Atheism”. To generalize the report’s findings to the global human population, what must we assume about the sampling method? Does that seem like a reasonable assumption?"
   ]
  },
  {
   "cell_type": "markdown",
   "metadata": {},
   "source": [
    "# The data\n",
    "Turn your attention to Table 6 (pages 15 and 16), which reports the sample size and response percentages for all 57 countries. While this is a useful format to summarize the data, we will base our analysis on the original data set of individual responses to the survey. Load this data set into Python with the following commands"
   ]
  },
  {
   "cell_type": "code",
   "execution_count": 4,
   "metadata": {
    "collapsed": false
   },
   "outputs": [],
   "source": [
    "import pandas as pd\n",
    "atheism = pd.read_csv(\"atheism.csv\")"
   ]
  },
  {
   "cell_type": "markdown",
   "metadata": {},
   "source": [
    "**Exercise 3** What does each row of Table 6 correspond to? What does each row of atheism correspond to?"
   ]
  },
  {
   "cell_type": "markdown",
   "metadata": {},
   "source": [
    "To investigate the link between these two ways of organizing this data, take a look at the estimated proportion of atheists in the United States. Towards the bottom of Table 6, we see that this is 5%. We should be able to come to the same number using the `atheism` data."
   ]
  },
  {
   "cell_type": "markdown",
   "metadata": {},
   "source": [
    "**Exercise 4** Using the command below, create a new dataframe called `us12` that contains only the rows in atheism associated with respondents to the 2012 survey from the United States. Next, calculate the proportion of atheist responses. Does it agree with the percentage in Table 6? If not, why?"
   ]
  },
  {
   "cell_type": "code",
   "execution_count": 7,
   "metadata": {
    "collapsed": false
   },
   "outputs": [],
   "source": [
    "us12 = atheism[(atheism['nationality'] == 'United States') & (atheism['year'] == 2012)]"
   ]
  },
  {
   "cell_type": "code",
   "execution_count": 34,
   "metadata": {
    "collapsed": false
   },
   "outputs": [
    {
     "data": {
      "text/plain": [
       "0.049900199600798403"
      ]
     },
     "execution_count": 34,
     "metadata": {},
     "output_type": "execute_result"
    }
   ],
   "source": [
    "us12[us12['response'] == 'atheist']['response'].count() / us12['response'].count()"
   ]
  },
  {
   "cell_type": "markdown",
   "metadata": {
    "collapsed": false
   },
   "source": [
    "# Inference on proportions\n",
    "As was hinted at in Exercise 1, Table 6 provides statistics, that is, calculations made from the sample of 51,927 people. What we’d like, though, is insight into the population parameters. You answer the question, “What proportion of people in your sample reported being atheists?” with a statistic; while the question “What proportion of people on earth would report being atheists” is answered with an estimate of the parameter.\n",
    "\n",
    "The inferential tools for estimating population proportion are analogous to those used for means in the last chapter: the confidence interval and the hypothesis test."
   ]
  },
  {
   "cell_type": "markdown",
   "metadata": {
    "collapsed": false
   },
   "source": [
    "**Exercise 5** Write out the conditions for inference to construct a 95% confidence interval for the proportion of atheists in the United States in 2012. Are you confident all conditions are met?"
   ]
  },
  {
   "cell_type": "markdown",
   "metadata": {
    "collapsed": true
   },
   "source": [
    "If the conditions for inference are reasonable, we can either calculate the standard error and construct the interval by hand, or allow the following function to do it for us."
   ]
  },
  {
   "cell_type": "code",
   "execution_count": 36,
   "metadata": {
    "collapsed": false
   },
   "outputs": [
    {
     "name": "stdout",
     "output_type": "stream",
     "text": [
      "standard error =  0.006878629122390021 \n",
      "critical value on the normal distribution is z = 1.95996398454 \n",
      "margin of error = 0.0134818653429\n",
      "\n",
      "The observed proportion is 0.0499001996007984 and the 95.0% confidence interval is [0.0364183342579056 to 0.0633820649436912]\n"
     ]
    }
   ],
   "source": [
    "import math\n",
    "from scipy import stats\n",
    "a = us12['response']\n",
    "success = 'atheist'\n",
    "n = len(a)\n",
    "alpha = 0.05\n",
    "\n",
    "obs = len(a[a == success]) / len(a)\n",
    "std = math.sqrt((obs*(1-obs)) / n)\n",
    "\n",
    "pvalue = 1.0 - alpha / 2\n",
    "crit_val = stats.norm.ppf(pvalue, loc = 0, scale = 1)\n",
    "MoE = crit_val * std\n",
    "\n",
    "print('standard error = ', std, '\\n'\n",
    "    'critical value on the normal distribution is z =', crit_val, '\\n'\n",
    "      'margin of error =', MoE )\n",
    "\n",
    "print ('\\nThe observed proportion is {} and the {}% confidence interval is [{} to {}]'.format(obs, (1.0 - alpha)*100, obs - MoE, obs + MoE))"
   ]
  },
  {
   "cell_type": "code",
   "execution_count": 35,
   "metadata": {
    "collapsed": false
   },
   "outputs": [
    {
     "data": {
      "text/plain": [
       "0.015795600590164084"
      ]
     },
     "execution_count": 35,
     "metadata": {},
     "output_type": "execute_result"
    }
   ],
   "source": [
    "std"
   ]
  },
  {
   "cell_type": "code",
   "execution_count": 30,
   "metadata": {
    "collapsed": false
   },
   "outputs": [
    {
     "data": {
      "text/plain": [
       "49937    atheist\n",
       "49944    atheist\n",
       "49949    atheist\n",
       "49955    atheist\n",
       "49956    atheist\n",
       "49983    atheist\n",
       "49995    atheist\n",
       "50040    atheist\n",
       "50057    atheist\n",
       "50063    atheist\n",
       "50117    atheist\n",
       "50149    atheist\n",
       "50205    atheist\n",
       "50221    atheist\n",
       "50249    atheist\n",
       "50253    atheist\n",
       "50259    atheist\n",
       "50280    atheist\n",
       "50309    atheist\n",
       "50322    atheist\n",
       "50353    atheist\n",
       "50359    atheist\n",
       "50360    atheist\n",
       "50374    atheist\n",
       "50433    atheist\n",
       "50444    atheist\n",
       "50445    atheist\n",
       "50449    atheist\n",
       "50455    atheist\n",
       "50466    atheist\n",
       "50511    atheist\n",
       "50541    atheist\n",
       "50556    atheist\n",
       "50581    atheist\n",
       "50607    atheist\n",
       "50640    atheist\n",
       "50641    atheist\n",
       "50692    atheist\n",
       "50696    atheist\n",
       "50709    atheist\n",
       "50718    atheist\n",
       "50720    atheist\n",
       "50743    atheist\n",
       "50747    atheist\n",
       "50798    atheist\n",
       "50838    atheist\n",
       "50854    atheist\n",
       "50858    atheist\n",
       "50874    atheist\n",
       "50891    atheist\n",
       "Name: response, dtype: object"
      ]
     },
     "execution_count": 30,
     "metadata": {},
     "output_type": "execute_result"
    }
   ],
   "source": [
    "a[a == 'atheist']"
   ]
  },
  {
   "cell_type": "code",
   "execution_count": null,
   "metadata": {
    "collapsed": true
   },
   "outputs": [],
   "source": []
  }
 ],
 "metadata": {
  "anaconda-cloud": {},
  "kernelspec": {
   "display_name": "Python [default]",
   "language": "python",
   "name": "python3"
  },
  "language_info": {
   "codemirror_mode": {
    "name": "ipython",
    "version": 3
   },
   "file_extension": ".py",
   "mimetype": "text/x-python",
   "name": "python",
   "nbconvert_exporter": "python",
   "pygments_lexer": "ipython3",
   "version": "3.5.2"
  }
 },
 "nbformat": 4,
 "nbformat_minor": 2
}
